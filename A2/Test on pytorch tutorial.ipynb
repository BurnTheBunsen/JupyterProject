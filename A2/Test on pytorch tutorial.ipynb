{
 "cells": [
  {
   "cell_type": "code",
   "id": "initial_id",
   "metadata": {
    "collapsed": true,
    "ExecuteTime": {
     "end_time": "2025-10-10T11:39:50.971523Z",
     "start_time": "2025-10-10T11:39:46.774849Z"
    }
   },
   "source": [
    "import torch\n",
    "import torch.nn as nn\n",
    "import torch.optim as optim\n",
    "\n",
    "import pprint\n",
    "pp = pprint.PrettyPrinter()"
   ],
   "outputs": [],
   "execution_count": 1
  },
  {
   "metadata": {
    "ExecuteTime": {
     "end_time": "2025-10-10T11:39:51.001271Z",
     "start_time": "2025-10-10T11:39:50.997418Z"
    }
   },
   "cell_type": "code",
   "source": [
    "# Our raw data, which consists of sentences\n",
    "corpus = [\n",
    "          \"We always come to Paris\",\n",
    "          \"The professor is from Australia\",\n",
    "          \"I live in Stanford\",\n",
    "          \"He comes from Taiwan\",\n",
    "          \"The capital of Turkey is Ankara\"\n",
    "         ]"
   ],
   "id": "d4adf00035f87a03",
   "outputs": [],
   "execution_count": 2
  },
  {
   "metadata": {
    "ExecuteTime": {
     "end_time": "2025-10-10T11:39:51.105310Z",
     "start_time": "2025-10-10T11:39:51.096821Z"
    }
   },
   "cell_type": "code",
   "source": [
    "### this is the preprocessing steps that we will take for our data\n",
    "def preprocess_sentence(sentence):\n",
    "    return sentence.lower().split()\n",
    "\n",
    "train_sentences = [preprocess_sentence(sent) for sent in corpus]\n",
    "train_sentences"
   ],
   "id": "46293ee5c4763118",
   "outputs": [
    {
     "data": {
      "text/plain": [
       "[['we', 'always', 'come', 'to', 'paris'],\n",
       " ['the', 'professor', 'is', 'from', 'australia'],\n",
       " ['i', 'live', 'in', 'stanford'],\n",
       " ['he', 'comes', 'from', 'taiwan'],\n",
       " ['the', 'capital', 'of', 'turkey', 'is', 'ankara']]"
      ]
     },
     "execution_count": 3,
     "metadata": {},
     "output_type": "execute_result"
    }
   ],
   "execution_count": 3
  },
  {
   "metadata": {
    "ExecuteTime": {
     "end_time": "2025-10-10T11:39:51.136357Z",
     "start_time": "2025-10-10T11:39:51.128978Z"
    }
   },
   "cell_type": "code",
   "source": [
    "locations = set(['paris', 'australia', 'stanford', 'taiwan', 'turkey', 'ankara'])\n",
    "\n",
    "train_labels = [[1 if word in locations else 0 for word in sent] for sent in train_sentences]\n",
    "train_labels\n"
   ],
   "id": "c154aef3fcb7105c",
   "outputs": [
    {
     "data": {
      "text/plain": [
       "[[0, 0, 0, 0, 1],\n",
       " [0, 0, 0, 0, 1],\n",
       " [0, 0, 0, 1],\n",
       " [0, 0, 0, 1],\n",
       " [0, 0, 0, 1, 0, 1]]"
      ]
     },
     "execution_count": 4,
     "metadata": {},
     "output_type": "execute_result"
    }
   ],
   "execution_count": 4
  },
  {
   "metadata": {
    "ExecuteTime": {
     "end_time": "2025-10-10T11:39:51.154294Z",
     "start_time": "2025-10-10T11:39:51.147317Z"
    }
   },
   "cell_type": "code",
   "source": [
    "vocabulary = set(w for s in train_sentences for w in s)\n",
    "vocabulary"
   ],
   "id": "fdb5ad76f0abc656",
   "outputs": [
    {
     "data": {
      "text/plain": [
       "{'always',\n",
       " 'ankara',\n",
       " 'australia',\n",
       " 'capital',\n",
       " 'come',\n",
       " 'comes',\n",
       " 'from',\n",
       " 'he',\n",
       " 'i',\n",
       " 'in',\n",
       " 'is',\n",
       " 'live',\n",
       " 'of',\n",
       " 'paris',\n",
       " 'professor',\n",
       " 'stanford',\n",
       " 'taiwan',\n",
       " 'the',\n",
       " 'to',\n",
       " 'turkey',\n",
       " 'we'}"
      ]
     },
     "execution_count": 5,
     "metadata": {},
     "output_type": "execute_result"
    }
   ],
   "execution_count": 5
  },
  {
   "metadata": {
    "ExecuteTime": {
     "end_time": "2025-10-10T11:39:51.196280Z",
     "start_time": "2025-10-10T11:39:51.164408Z"
    }
   },
   "cell_type": "code",
   "source": [
    "vocabulary.add(\"<unk>\")\n",
    "vocabulary.add(\"<pad>\")"
   ],
   "id": "320b54f42fbe1511",
   "outputs": [],
   "execution_count": 6
  },
  {
   "metadata": {
    "ExecuteTime": {
     "end_time": "2025-10-10T11:39:51.224094Z",
     "start_time": "2025-10-10T11:39:51.205465Z"
    }
   },
   "cell_type": "code",
   "source": [
    "def pad_window(sentence, window_size, pad_token=\"<pad>\"):\n",
    "    window = [pad_token] * window_size\n",
    "    return window + sentence + window\n",
    "\n",
    "window_size = 2\n",
    "pad_window(train_sentences[0], window_size=window_size)"
   ],
   "id": "ef2a80c97436fa42",
   "outputs": [
    {
     "data": {
      "text/plain": [
       "['<pad>', '<pad>', 'we', 'always', 'come', 'to', 'paris', '<pad>', '<pad>']"
      ]
     },
     "execution_count": 7,
     "metadata": {},
     "output_type": "execute_result"
    }
   ],
   "execution_count": 7
  },
  {
   "metadata": {
    "ExecuteTime": {
     "end_time": "2025-10-10T11:39:51.307096Z",
     "start_time": "2025-10-10T11:39:51.235048Z"
    }
   },
   "cell_type": "code",
   "source": [
    "# We are just converting our vocabularly to a list to be able to index into it\n",
    "# Sorting is not necessary, we sort to show an ordered word_to_ind dictionary\n",
    "# That being said, we will see that having the index for the padding token\n",
    "# be 0 is convenient as some PyTorch functions use it as a default value\n",
    "# such as nn.utils.rnn.pad_sequence, which we will cover in a bit\n",
    "ix_into_words = sorted(list(vocabulary))\n",
    "word_into_ix = {word: ind for ind, word in enumerate(ix_into_words)}\n",
    "word_into_ix"
   ],
   "id": "ef93fdc0ebb30022",
   "outputs": [
    {
     "data": {
      "text/plain": [
       "{'<pad>': 0,\n",
       " '<unk>': 1,\n",
       " 'always': 2,\n",
       " 'ankara': 3,\n",
       " 'australia': 4,\n",
       " 'capital': 5,\n",
       " 'come': 6,\n",
       " 'comes': 7,\n",
       " 'from': 8,\n",
       " 'he': 9,\n",
       " 'i': 10,\n",
       " 'in': 11,\n",
       " 'is': 12,\n",
       " 'live': 13,\n",
       " 'of': 14,\n",
       " 'paris': 15,\n",
       " 'professor': 16,\n",
       " 'stanford': 17,\n",
       " 'taiwan': 18,\n",
       " 'the': 19,\n",
       " 'to': 20,\n",
       " 'turkey': 21,\n",
       " 'we': 22}"
      ]
     },
     "execution_count": 8,
     "metadata": {},
     "output_type": "execute_result"
    }
   ],
   "execution_count": 8
  },
  {
   "metadata": {
    "ExecuteTime": {
     "end_time": "2025-10-10T11:39:51.356811Z",
     "start_time": "2025-10-10T11:39:51.319027Z"
    }
   },
   "cell_type": "code",
   "source": "###### Great! We are ready to convert our training sentences into a sequence of indices corresponding to each token.",
   "id": "8835192da6ba35ad",
   "outputs": [],
   "execution_count": 9
  },
  {
   "metadata": {
    "ExecuteTime": {
     "end_time": "2025-10-10T11:39:51.406861Z",
     "start_time": "2025-10-10T11:39:51.365925Z"
    }
   },
   "cell_type": "code",
   "source": [
    "# Given a sentence of tokens, return the corresponding indices\n",
    "# def convert_token_to_indices(sentences, word_to_ix):\n",
    "#     indices = []\n",
    "#     for token in sentences:\n",
    "#         if token in word_into_ix:\n",
    "#             index = word_to_ix[token]\n",
    "#         else:\n",
    "#             index = word_into_ix[\"<unk>\"]\n",
    "#         indices.append(index)\n",
    "#     return indices\n",
    "def convert_token_to_indices(sentence, word_to_ix):\n",
    "    return [word_into_ix.get(token, word_into_ix[\"<unk>\"])for token in sentence]\n",
    "\n",
    "example_sentence = [\"we\", \"always\", \"come\", \"to\", \"kuwait\"]\n",
    "example_indices = convert_token_to_indices(example_sentence, word_into_ix)\n",
    "restored_example = [ix_into_words[ind] for ind in example_indices]\n",
    "\n",
    "print(example_indices)\n",
    "print(f\"Original sentence is: {example_sentence}\")\n",
    "print(f\"Going from words to indices: {example_indices}\")\n",
    "print(f\"Going from indices to words: {restored_example}\")"
   ],
   "id": "2fb9f7aefc22ccbe",
   "outputs": [
    {
     "name": "stdout",
     "output_type": "stream",
     "text": [
      "[22, 2, 6, 20, 1]\n",
      "Original sentence is: ['we', 'always', 'come', 'to', 'kuwait']\n",
      "Going from words to indices: [22, 2, 6, 20, 1]\n",
      "Going from indices to words: ['we', 'always', 'come', 'to', '<unk>']\n"
     ]
    }
   ],
   "execution_count": 10
  },
  {
   "metadata": {},
   "cell_type": "markdown",
   "source": "In the example above, `kuwait` shows up as `<unk>`, because it is not included in our vocabulary. Let's convert our `train_sentences` to `example_padded_indices`.",
   "id": "14a2bd5335cf750b"
  },
  {
   "metadata": {
    "ExecuteTime": {
     "end_time": "2025-10-10T11:39:51.433375Z",
     "start_time": "2025-10-10T11:39:51.418620Z"
    }
   },
   "cell_type": "code",
   "source": [
    "example_padded_indices = [convert_token_to_indices(s, word_into_ix) for s in train_sentences]\n",
    "example_padded_indices"
   ],
   "id": "3f497711f73066ec",
   "outputs": [
    {
     "data": {
      "text/plain": [
       "[[22, 2, 6, 20, 15],\n",
       " [19, 16, 12, 8, 4],\n",
       " [10, 13, 11, 17],\n",
       " [9, 7, 8, 18],\n",
       " [19, 5, 14, 21, 12, 3]]"
      ]
     },
     "execution_count": 11,
     "metadata": {},
     "output_type": "execute_result"
    }
   ],
   "execution_count": 11
  },
  {
   "metadata": {
    "ExecuteTime": {
     "end_time": "2025-10-10T11:39:51.581166Z",
     "start_time": "2025-10-10T11:39:51.442338Z"
    }
   },
   "cell_type": "code",
   "source": [
    "embedding_dim = 5\n",
    "embeds = nn.Embedding(len(vocabulary), embedding_dim)\n",
    "list(embeds.parameters())"
   ],
   "id": "17536375c9523592",
   "outputs": [
    {
     "data": {
      "text/plain": [
       "[Parameter containing:\n",
       " tensor([[-0.5566, -0.2973,  0.7979, -1.0992,  1.1357],\n",
       "         [-0.0195, -0.5383, -0.0191,  0.4970, -0.1460],\n",
       "         [-0.5175, -1.0026, -0.2947,  0.3439, -0.3770],\n",
       "         [-0.0227, -0.4044,  1.0167,  0.0094, -0.3849],\n",
       "         [ 0.4756,  1.9361, -0.2580, -0.1633,  0.4199],\n",
       "         [-0.4498, -0.3365, -1.1495,  0.8817,  1.8471],\n",
       "         [ 1.1960,  1.3883,  0.2877, -0.6307, -0.2359],\n",
       "         [-1.3974, -1.1944,  0.5969, -0.1510, -1.9802],\n",
       "         [ 0.6131, -0.7753, -0.6028,  1.3068, -0.3897],\n",
       "         [ 0.8399,  0.5327,  0.1397, -1.9980,  0.3431],\n",
       "         [ 0.6340, -1.7666, -0.1620, -0.7948, -0.9057],\n",
       "         [ 0.0042, -0.2346,  0.7788,  0.2809,  2.0080],\n",
       "         [-1.2792, -0.8290, -0.5560, -1.6716, -0.5987],\n",
       "         [-0.0859,  0.4920, -0.4824, -1.5534, -0.1874],\n",
       "         [ 0.5157,  0.9199,  0.5778,  0.3613, -0.1230],\n",
       "         [ 0.8765, -0.6908, -0.0958,  0.2061,  0.5311],\n",
       "         [-0.8379,  1.0306,  0.4352, -0.0924,  0.2690],\n",
       "         [ 0.6127, -0.7799,  1.1581, -1.3278, -1.1029],\n",
       "         [ 0.2045,  1.4712, -2.4537,  0.4078,  3.3021],\n",
       "         [ 0.7149,  0.9804,  0.2204,  0.8554, -0.2535],\n",
       "         [ 0.6732, -0.5363,  0.8392, -1.0088,  0.6816],\n",
       "         [ 1.6196,  0.2537,  0.1126,  0.5850,  0.6607],\n",
       "         [-0.4894,  1.3269,  1.1962, -0.4565, -1.6332]], requires_grad=True)]"
      ]
     },
     "execution_count": 12,
     "metadata": {},
     "output_type": "execute_result"
    }
   ],
   "execution_count": 12
  },
  {
   "metadata": {
    "ExecuteTime": {
     "end_time": "2025-10-10T11:39:51.758028Z",
     "start_time": "2025-10-10T11:39:51.638805Z"
    }
   },
   "cell_type": "code",
   "source": [
    "#we want to get the lookup tensor for the word Paris\n",
    "index = word_into_ix.get('paris')\n",
    "index_tensor = torch.tensor(index, dtype=torch.long)\n",
    "paris_embed = embeds(index_tensor)\n",
    "paris_embed\n"
   ],
   "id": "1cf26eb6c92cfa4f",
   "outputs": [
    {
     "data": {
      "text/plain": [
       "tensor([ 0.8765, -0.6908, -0.0958,  0.2061,  0.5311],\n",
       "       grad_fn=<EmbeddingBackward0>)"
      ]
     },
     "execution_count": 13,
     "metadata": {},
     "output_type": "execute_result"
    }
   ],
   "execution_count": 13
  },
  {
   "metadata": {
    "ExecuteTime": {
     "end_time": "2025-10-10T11:39:51.766945Z",
     "start_time": "2025-10-10T11:39:51.764742Z"
    }
   },
   "cell_type": "code",
   "source": "",
   "id": "f39cad94900821ff",
   "outputs": [],
   "execution_count": null
  }
 ],
 "metadata": {
  "kernelspec": {
   "display_name": "Python 3",
   "language": "python",
   "name": "python3"
  },
  "language_info": {
   "codemirror_mode": {
    "name": "ipython",
    "version": 2
   },
   "file_extension": ".py",
   "mimetype": "text/x-python",
   "name": "python",
   "nbconvert_exporter": "python",
   "pygments_lexer": "ipython2",
   "version": "2.7.6"
  }
 },
 "nbformat": 4,
 "nbformat_minor": 5
}
